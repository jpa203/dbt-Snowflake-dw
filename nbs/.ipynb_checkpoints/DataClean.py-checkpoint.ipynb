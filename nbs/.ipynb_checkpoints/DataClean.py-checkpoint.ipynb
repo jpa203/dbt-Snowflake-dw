{
 "cells": [
  {
   "cell_type": "code",
   "execution_count": 21,
   "id": "09c81c3a",
   "metadata": {},
   "outputs": [
    {
     "name": "stdout",
     "output_type": "stream",
     "text": [
      "/Users/jazzopardi/dev/datawarehouse/nbs\r\n"
     ]
    }
   ],
   "source": [
    "!pwd"
   ]
  },
  {
   "cell_type": "code",
   "execution_count": 52,
   "id": "7767daf5",
   "metadata": {},
   "outputs": [],
   "source": [
    "import pandas as pd"
   ]
  },
  {
   "cell_type": "code",
   "execution_count": 53,
   "id": "871b128f",
   "metadata": {},
   "outputs": [],
   "source": [
    "df = pd.read_csv('/Users/jazzopardi/dev/datawarehouse/raw_data/Player.csv')"
   ]
  },
  {
   "cell_type": "code",
   "execution_count": 54,
   "id": "41bdc68e",
   "metadata": {},
   "outputs": [],
   "source": [
    "df['player_name'] = df['player_name'].str.replace(\"'\", '')"
   ]
  },
  {
   "cell_type": "code",
   "execution_count": 56,
   "id": "450f1c3b",
   "metadata": {},
   "outputs": [],
   "source": [
    "df['birthday'] = pd.to_datetime(df.birthday)\n"
   ]
  },
  {
   "cell_type": "code",
   "execution_count": 46,
   "id": "3f265c6f",
   "metadata": {},
   "outputs": [],
   "source": [
    "df.to_csv('/Users/jazzopardi/dev/datawarehouse/raw_data/Player.csv')"
   ]
  },
  {
   "cell_type": "code",
   "execution_count": 50,
   "id": "32f0e500",
   "metadata": {},
   "outputs": [
    {
     "data": {
      "text/html": [
       "<div>\n",
       "<style scoped>\n",
       "    .dataframe tbody tr th:only-of-type {\n",
       "        vertical-align: middle;\n",
       "    }\n",
       "\n",
       "    .dataframe tbody tr th {\n",
       "        vertical-align: top;\n",
       "    }\n",
       "\n",
       "    .dataframe thead th {\n",
       "        text-align: right;\n",
       "    }\n",
       "</style>\n",
       "<table border=\"1\" class=\"dataframe\">\n",
       "  <thead>\n",
       "    <tr style=\"text-align: right;\">\n",
       "      <th></th>\n",
       "      <th>id</th>\n",
       "      <th>player_api_id</th>\n",
       "      <th>player_name</th>\n",
       "      <th>player_fifa_api_id</th>\n",
       "      <th>birthday</th>\n",
       "      <th>height</th>\n",
       "      <th>weight</th>\n",
       "    </tr>\n",
       "  </thead>\n",
       "  <tbody>\n",
       "    <tr>\n",
       "      <th>0</th>\n",
       "      <td>1</td>\n",
       "      <td>505942</td>\n",
       "      <td>'Aaron Appindangoye'</td>\n",
       "      <td>218353</td>\n",
       "      <td>'1992-02-29 00:00:00'</td>\n",
       "      <td>182.88</td>\n",
       "      <td>187</td>\n",
       "    </tr>\n",
       "    <tr>\n",
       "      <th>1</th>\n",
       "      <td>2</td>\n",
       "      <td>155782</td>\n",
       "      <td>'Aaron Cresswell'</td>\n",
       "      <td>189615</td>\n",
       "      <td>'1989-12-15 00:00:00'</td>\n",
       "      <td>170.18</td>\n",
       "      <td>146</td>\n",
       "    </tr>\n",
       "    <tr>\n",
       "      <th>2</th>\n",
       "      <td>3</td>\n",
       "      <td>162549</td>\n",
       "      <td>'Aaron Doran'</td>\n",
       "      <td>186170</td>\n",
       "      <td>'1991-05-13 00:00:00'</td>\n",
       "      <td>170.18</td>\n",
       "      <td>163</td>\n",
       "    </tr>\n",
       "    <tr>\n",
       "      <th>3</th>\n",
       "      <td>4</td>\n",
       "      <td>30572</td>\n",
       "      <td>'Aaron Galindo'</td>\n",
       "      <td>140161</td>\n",
       "      <td>'1982-05-08 00:00:00'</td>\n",
       "      <td>182.88</td>\n",
       "      <td>198</td>\n",
       "    </tr>\n",
       "    <tr>\n",
       "      <th>4</th>\n",
       "      <td>5</td>\n",
       "      <td>23780</td>\n",
       "      <td>'Aaron Hughes'</td>\n",
       "      <td>17725</td>\n",
       "      <td>'1979-11-08 00:00:00'</td>\n",
       "      <td>182.88</td>\n",
       "      <td>154</td>\n",
       "    </tr>\n",
       "    <tr>\n",
       "      <th>...</th>\n",
       "      <td>...</td>\n",
       "      <td>...</td>\n",
       "      <td>...</td>\n",
       "      <td>...</td>\n",
       "      <td>...</td>\n",
       "      <td>...</td>\n",
       "      <td>...</td>\n",
       "    </tr>\n",
       "    <tr>\n",
       "      <th>11055</th>\n",
       "      <td>11071</td>\n",
       "      <td>26357</td>\n",
       "      <td>'Zoumana Camara'</td>\n",
       "      <td>2488</td>\n",
       "      <td>'1979-04-03 00:00:00'</td>\n",
       "      <td>182.88</td>\n",
       "      <td>168</td>\n",
       "    </tr>\n",
       "    <tr>\n",
       "      <th>11056</th>\n",
       "      <td>11072</td>\n",
       "      <td>111182</td>\n",
       "      <td>'Zsolt Laczko'</td>\n",
       "      <td>164680</td>\n",
       "      <td>'1986-12-18 00:00:00'</td>\n",
       "      <td>182.88</td>\n",
       "      <td>176</td>\n",
       "    </tr>\n",
       "    <tr>\n",
       "      <th>11057</th>\n",
       "      <td>11073</td>\n",
       "      <td>36491</td>\n",
       "      <td>'Zsolt Low'</td>\n",
       "      <td>111191</td>\n",
       "      <td>'1979-04-29 00:00:00'</td>\n",
       "      <td>180.34</td>\n",
       "      <td>154</td>\n",
       "    </tr>\n",
       "    <tr>\n",
       "      <th>11058</th>\n",
       "      <td>11074</td>\n",
       "      <td>35506</td>\n",
       "      <td>'Zurab Khizanishvili'</td>\n",
       "      <td>47058</td>\n",
       "      <td>'1981-10-06 00:00:00'</td>\n",
       "      <td>185.42</td>\n",
       "      <td>172</td>\n",
       "    </tr>\n",
       "    <tr>\n",
       "      <th>11059</th>\n",
       "      <td>11075</td>\n",
       "      <td>39902</td>\n",
       "      <td>'Zvjezdan Misimovic'</td>\n",
       "      <td>102359</td>\n",
       "      <td>'1982-06-05 00:00:00'</td>\n",
       "      <td>180.34</td>\n",
       "      <td>176</td>\n",
       "    </tr>\n",
       "  </tbody>\n",
       "</table>\n",
       "<p>11060 rows × 7 columns</p>\n",
       "</div>"
      ],
      "text/plain": [
       "          id  player_api_id            player_name  player_fifa_api_id  \\\n",
       "0          1         505942   'Aaron Appindangoye'              218353   \n",
       "1          2         155782      'Aaron Cresswell'              189615   \n",
       "2          3         162549          'Aaron Doran'              186170   \n",
       "3          4          30572        'Aaron Galindo'              140161   \n",
       "4          5          23780         'Aaron Hughes'               17725   \n",
       "...      ...            ...                    ...                 ...   \n",
       "11055  11071          26357       'Zoumana Camara'                2488   \n",
       "11056  11072         111182         'Zsolt Laczko'              164680   \n",
       "11057  11073          36491            'Zsolt Low'              111191   \n",
       "11058  11074          35506  'Zurab Khizanishvili'               47058   \n",
       "11059  11075          39902   'Zvjezdan Misimovic'              102359   \n",
       "\n",
       "                    birthday  height  weight  \n",
       "0      '1992-02-29 00:00:00'  182.88     187  \n",
       "1      '1989-12-15 00:00:00'  170.18     146  \n",
       "2      '1991-05-13 00:00:00'  170.18     163  \n",
       "3      '1982-05-08 00:00:00'  182.88     198  \n",
       "4      '1979-11-08 00:00:00'  182.88     154  \n",
       "...                      ...     ...     ...  \n",
       "11055  '1979-04-03 00:00:00'  182.88     168  \n",
       "11056  '1986-12-18 00:00:00'  182.88     176  \n",
       "11057  '1979-04-29 00:00:00'  180.34     154  \n",
       "11058  '1981-10-06 00:00:00'  185.42     172  \n",
       "11059  '1982-06-05 00:00:00'  180.34     176  \n",
       "\n",
       "[11060 rows x 7 columns]"
      ]
     },
     "execution_count": 50,
     "metadata": {},
     "output_type": "execute_result"
    }
   ],
   "source": [
    "df"
   ]
  },
  {
   "cell_type": "code",
   "execution_count": null,
   "id": "69328086",
   "metadata": {},
   "outputs": [],
   "source": []
  }
 ],
 "metadata": {
  "kernelspec": {
   "display_name": "Python 3 (ipykernel)",
   "language": "python",
   "name": "python3"
  },
  "language_info": {
   "codemirror_mode": {
    "name": "ipython",
    "version": 3
   },
   "file_extension": ".py",
   "mimetype": "text/x-python",
   "name": "python",
   "nbconvert_exporter": "python",
   "pygments_lexer": "ipython3",
   "version": "3.11.4"
  }
 },
 "nbformat": 4,
 "nbformat_minor": 5
}
