{
 "cells": [
  {
   "cell_type": "code",
   "execution_count": 1,
   "id": "7767daf5",
   "metadata": {},
   "outputs": [],
   "source": [
    "import pandas as pd"
   ]
  },
  {
   "cell_type": "code",
   "execution_count": 3,
   "id": "74055d78",
   "metadata": {},
   "outputs": [],
   "source": [
    "df = pd.read_csv('/Users/jazzopardi/dev/datawarehouse/raw_data/Player.csv')"
   ]
  },
  {
   "cell_type": "code",
   "execution_count": 15,
   "id": "dbe422c6",
   "metadata": {},
   "outputs": [],
   "source": [
    "df['player_name'] = df['player_name'].str.replace(\"'\", '')\n"
   ]
  },
  {
   "cell_type": "code",
   "execution_count": 20,
   "id": "1da8ea83",
   "metadata": {},
   "outputs": [],
   "source": [
    "df.to_csv('/Users/jazzopardi/dev/datawarehouse/raw_data/Player.csv')"
   ]
  }
 ],
 "metadata": {
  "kernelspec": {
   "display_name": "Python 3 (ipykernel)",
   "language": "python",
   "name": "python3"
  },
  "language_info": {
   "codemirror_mode": {
    "name": "ipython",
    "version": 3
   },
   "file_extension": ".py",
   "mimetype": "text/x-python",
   "name": "python",
   "nbconvert_exporter": "python",
   "pygments_lexer": "ipython3",
   "version": "3.11.4"
  }
 },
 "nbformat": 4,
 "nbformat_minor": 5
}
